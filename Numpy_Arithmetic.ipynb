{
 "cells": [
  {
   "cell_type": "code",
   "execution_count": 12,
   "id": "f7268dca-3ab0-4f3b-8932-c8a556d941fc",
   "metadata": {},
   "outputs": [
    {
     "name": "stdout",
     "output_type": "stream",
     "text": [
      "shape-(2, 5)   dimension-2d\n",
      "sum of elements- 55\n",
      "mean- 5.5\n",
      "standard deviation- 2.8722813232690143\n",
      "variance- 8.25\n",
      "min is 1\n",
      "max is 10\n",
      "index of smallest value 0\n",
      "greatest value index 9\n",
      "adding the column elements [ 7  9 11 13 15]\n",
      "adding the row elements [15 40]\n"
     ]
    }
   ],
   "source": [
    "import numpy as np\n",
    "#a 2d array\n",
    "arr1=np.array([[1,2,3,4,5],\n",
    "       [6,7,8,9,10]])\n",
    "print(f\"shape-{arr1.shape}   dimension-{arr1.ndim}d\")\n",
    "\n",
    "print(f\"sum of elements- {np.sum(arr1)}\")\n",
    "print(f\"mean- {np.mean(arr1)}\")\n",
    "print(F\"standard deviation- {np.std(arr1)}\") #standard deviation\n",
    "print(f\"variance- {np.var(arr1)}\")  #variance\n",
    "print(\"min is\", np.min(arr1))\n",
    "print(\"max is\", np.max(arr1))\n",
    "print(\"index of smallest value\", np.argmin(arr1)) #index of min value\n",
    "print(\"greatest value index\", np.argmax(arr1)) # index of max value\n",
    "\n",
    "print(\"adding the column elements\", np.sum(arr1,axis=0)) #adding each columns\n",
    "print(\"adding the row elements\", np.sum(arr1,axis=1)) #adding each rows"
   ]
  },
  {
   "cell_type": "code",
   "execution_count": null,
   "id": "a78d32eb-51bc-42ec-8c40-dc86e77bc9aa",
   "metadata": {},
   "outputs": [],
   "source": []
  },
  {
   "cell_type": "code",
   "execution_count": null,
   "id": "6e60126e-f89b-4f4b-bd30-b23106237765",
   "metadata": {},
   "outputs": [],
   "source": []
  }
 ],
 "metadata": {
  "kernelspec": {
   "display_name": "Python 3 (ipykernel)",
   "language": "python",
   "name": "python3"
  },
  "language_info": {
   "codemirror_mode": {
    "name": "ipython",
    "version": 3
   },
   "file_extension": ".py",
   "mimetype": "text/x-python",
   "name": "python",
   "nbconvert_exporter": "python",
   "pygments_lexer": "ipython3",
   "version": "3.13.5"
  }
 },
 "nbformat": 4,
 "nbformat_minor": 5
}
